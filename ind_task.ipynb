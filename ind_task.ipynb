{
 "cells": [
  {
   "cell_type": "markdown",
   "id": "07df7667",
   "metadata": {},
   "source": [
    "5. Дана целочисленная квадратная матрица. Определить:\n",
    "сумму элементов в тех столбцах, которые не содержат отрицательных элементов;\n",
    "минимум среди сумм модулей элементов диагоналей, параллельных побочной диагонали\n",
    "матрицы."
   ]
  },
  {
   "cell_type": "markdown",
   "id": "20493686",
   "metadata": {},
   "source": [
    "Инициализирую матрицу и импортирую NumPy"
   ]
  },
  {
   "cell_type": "code",
   "execution_count": 2,
   "id": "202f6abc",
   "metadata": {},
   "outputs": [],
   "source": [
    "import numpy as np "
   ]
  },
  {
   "cell_type": "code",
   "execution_count": 5,
   "id": "73f965fa",
   "metadata": {},
   "outputs": [
    {
     "name": "stdout",
     "output_type": "stream",
     "text": [
      "Enter the size of the matrix: 5\n"
     ]
    }
   ],
   "source": [
    "n = int(input(\"Enter the size of the matrix: \"))"
   ]
  },
  {
   "cell_type": "code",
   "execution_count": 14,
   "id": "0c4d0687",
   "metadata": {},
   "outputs": [
    {
     "name": "stdout",
     "output_type": "stream",
     "text": [
      "[[ 13  59  83  69  -4]\n",
      " [ 32  33   4  20  33]\n",
      " [ 49  34  25 -17  96]\n",
      " [ -5   7  90  13  76]\n",
      " [ 53  82  49  94  63]]\n"
     ]
    }
   ],
   "source": [
    "matrix = np.random.randint(-20, 100, (n, n))\n",
    "print(matrix)"
   ]
  },
  {
   "cell_type": "markdown",
   "id": "c1db8afa",
   "metadata": {},
   "source": [
    "# 1.  Сумма элементов в тех столбцах, которые не содержат отрицательных элементов"
   ]
  },
  {
   "cell_type": "markdown",
   "id": "581708a9",
   "metadata": {},
   "source": [
    "Вывожу массив boolean по столбац, в которых минимальный элемент больше нуля:"
   ]
  },
  {
   "cell_type": "code",
   "execution_count": 20,
   "id": "d38c9bfe",
   "metadata": {},
   "outputs": [
    {
     "name": "stdout",
     "output_type": "stream",
     "text": [
      "[False  True  True False False]\n"
     ]
    }
   ],
   "source": [
    "print(matrix.min(axis=0) > 0)"
   ]
  },
  {
   "cell_type": "markdown",
   "id": "d0ff67ef",
   "metadata": {},
   "source": [
    "Здесь я уже попытался вывести только столбцы матрицы, которые не содержали отрицательных элементов:"
   ]
  },
  {
   "cell_type": "code",
   "execution_count": 25,
   "id": "03c4995b",
   "metadata": {},
   "outputs": [
    {
     "name": "stdout",
     "output_type": "stream",
     "text": [
      "[[59 83]\n",
      " [33  4]\n",
      " [34 25]\n",
      " [ 7 90]\n",
      " [82 49]]\n"
     ]
    }
   ],
   "source": [
    "print(matrix[:, matrix.min(axis=0) > 0])"
   ]
  },
  {
   "cell_type": "markdown",
   "id": "81ec3568",
   "metadata": {},
   "source": [
    "Узнав как получить доступ к нужным мне столбцам, посчитал их сумму:"
   ]
  },
  {
   "cell_type": "code",
   "execution_count": 26,
   "id": "de937e15",
   "metadata": {},
   "outputs": [
    {
     "name": "stdout",
     "output_type": "stream",
     "text": [
      "466\n"
     ]
    }
   ],
   "source": [
    "summa = np.sum(matrix[:, matrix.min(axis=0) > 0])\n",
    "print(summa)"
   ]
  },
  {
   "cell_type": "markdown",
   "id": "c61734e6",
   "metadata": {},
   "source": [
    "# 2. Минимум среди сумм модулей элементов диагоналей, параллельных побочной диагонали матрицы"
   ]
  },
  {
   "cell_type": "code",
   "execution_count": 2,
   "id": "6dd689d4",
   "metadata": {},
   "outputs": [],
   "source": [
    "import numpy as np "
   ]
  },
  {
   "cell_type": "code",
   "execution_count": 3,
   "id": "ee6d4140",
   "metadata": {},
   "outputs": [
    {
     "name": "stdout",
     "output_type": "stream",
     "text": [
      "Enter the size of the matrix: 5\n"
     ]
    }
   ],
   "source": [
    "n = int(input(\"Enter the size of the matrix: \"))"
   ]
  },
  {
   "cell_type": "code",
   "execution_count": 4,
   "id": "4a60d8a2",
   "metadata": {},
   "outputs": [
    {
     "name": "stdout",
     "output_type": "stream",
     "text": [
      "[[ 72  57 -11  22  32]\n",
      " [ 90  93  99 -18  20]\n",
      " [ 93  -1  84  57 -18]\n",
      " [ 83  96   5  43  -2]\n",
      " [ 16  23  24  86 -10]]\n"
     ]
    }
   ],
   "source": [
    "matrix = np.random.randint(-20, 100, (n, n))\n",
    "print(matrix)"
   ]
  },
  {
   "cell_type": "code",
   "execution_count": 5,
   "id": "0da1e379",
   "metadata": {},
   "outputs": [
    {
     "name": "stdout",
     "output_type": "stream",
     "text": [
      "[[ 16  57 -11  22 -10]\n",
      " [ 90  96  99  43  20]\n",
      " [ 93  -1  84  57 -18]\n",
      " [ 83  93   5 -18  -2]\n",
      " [ 72  23  24  86  32]]\n"
     ]
    }
   ],
   "source": [
    "old_main_diagonal = matrix.diagonal().copy()\n",
    "np.fill_diagonal(matrix, np.flipud(matrix).diagonal()) \n",
    "np.fill_diagonal(np.flipud(matrix), old_main_diagonal)\n",
    "print(matrix)"
   ]
  },
  {
   "cell_type": "code",
   "execution_count": 11,
   "id": "d56d13cb",
   "metadata": {},
   "outputs": [
    {
     "name": "stdout",
     "output_type": "stream",
     "text": [
      "[[ 0  0  0  0  0]\n",
      " [90  0  0  0  0]\n",
      " [93 -1  0  0  0]\n",
      " [83 93  5  0  0]\n",
      " [72 23 24 86  0]]\n",
      "[[  0  57 -11  22 -10]\n",
      " [  0   0  99  43  20]\n",
      " [  0   0   0  57 -18]\n",
      " [  0   0   0   0  -2]\n",
      " [  0   0   0   0   0]]\n"
     ]
    }
   ],
   "source": [
    "print(np.tril(matrix, -1))\n",
    "print(np.triu(matrix, 1))"
   ]
  },
  {
   "cell_type": "code",
   "execution_count": null,
   "id": "71a42b29",
   "metadata": {},
   "outputs": [],
   "source": []
  }
 ],
 "metadata": {
  "kernelspec": {
   "display_name": "Python 3",
   "language": "python",
   "name": "python3"
  },
  "language_info": {
   "codemirror_mode": {
    "name": "ipython",
    "version": 3
   },
   "file_extension": ".py",
   "mimetype": "text/x-python",
   "name": "python",
   "nbconvert_exporter": "python",
   "pygments_lexer": "ipython3",
   "version": "3.8.8"
  }
 },
 "nbformat": 4,
 "nbformat_minor": 5
}
